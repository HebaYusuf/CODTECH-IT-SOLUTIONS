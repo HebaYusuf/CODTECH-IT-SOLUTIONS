{
 "cells": [
  {
   "cell_type": "code",
   "execution_count": null,
   "metadata": {},
   "outputs": [
    {
     "name": "stdout",
     "output_type": "stream",
     "text": [
      "Simple Chatbot: Hello! Type 'bye' to exit.\n",
      "You: hello\n",
      "Simple Chatbot: Hello! How can I help you today?\n",
      "You: I want shirts\n",
      "Simple Chatbot: Hello! How can I help you today?\n"
     ]
    }
   ],
   "source": [
    "import re\n",
    "\n",
    "def simple_chatbot(user_input):\n",
    "    # Convert the user input to lowercase for case-insensitive matching\n",
    "    user_input = user_input.lower()\n",
    "\n",
    "    # Define patterns and corresponding responses\n",
    "    greetings_patterns = ['hi', 'hello', 'hey', 'greetings']\n",
    "    goodbye_patterns = ['bye', 'goodbye', 'see you']\n",
    "    weather_patterns = ['weather', 'how is the weather', 'forecast']\n",
    "    default_response = \"I'm sorry, I don't understand. Can you please rephrase your question?\"\n",
    "\n",
    "    # Check user input against patterns\n",
    "    if any(pattern in user_input for pattern in greetings_patterns):\n",
    "        return \"Hello! How can I help you today?\"\n",
    "\n",
    "    elif any(pattern in user_input for pattern in goodbye_patterns):\n",
    "        return \"Goodbye! Have a great day!\"\n",
    "\n",
    "    elif any(pattern in user_input for pattern in weather_patterns):\n",
    "        return \"I'm sorry, I don't have information about the weather right now.\"\n",
    "\n",
    "    else:\n",
    "        return default_response\n",
    "\n",
    "# Example usage:\n",
    "if __name__ == \"__main__\":\n",
    "    print(\"Simple Chatbot: Hello! Type 'bye' to exit.\")\n",
    "    \n",
    "    while True:\n",
    "        user_input = input(\"You: \")\n",
    "        \n",
    "        if user_input.lower() == 'bye':\n",
    "            print(\"Simple Chatbot: Goodbye! Exiting chat.\")\n",
    "            break\n",
    "\n",
    "        response = simple_chatbot(user_input)\n",
    "        print(\"Simple Chatbot:\", response)\n"
   ]
  },
  {
   "cell_type": "code",
   "execution_count": null,
   "metadata": {},
   "outputs": [],
   "source": []
  }
 ],
 "metadata": {
  "kernelspec": {
   "display_name": "Python 3",
   "language": "python",
   "name": "python3"
  },
  "language_info": {
   "codemirror_mode": {
    "name": "ipython",
    "version": 3
   },
   "file_extension": ".py",
   "mimetype": "text/x-python",
   "name": "python",
   "nbconvert_exporter": "python",
   "pygments_lexer": "ipython3",
   "version": "3.8.5"
  }
 },
 "nbformat": 4,
 "nbformat_minor": 4
}
